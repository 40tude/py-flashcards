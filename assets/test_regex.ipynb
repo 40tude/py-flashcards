{
 "cells": [
  {
   "cell_type": "code",
   "execution_count": 2,
   "metadata": {},
   "outputs": [],
   "source": [
    "# markdown_text = \"\"\"\n",
    "# * Question : SCRAPY - What is the purpose of Scrapy projects? - **\n",
    "# * Réponse  : To configure the scraping process and manage settings.\n",
    "# The answer can be on more than one line\n",
    "# It can include markdown\n",
    "\n",
    "# <p align=\"center\">\n",
    "# <img src=\"./assets/img1.png\" alt=\"attention\" width=\"577\"/>\n",
    "# </p>\n",
    "\n",
    "# $$ E = mc^2 $$\n",
    "\n",
    "# * Question : SCRAPY - How can you enable AutoThrottle in Scrapy?\n",
    "# * Réponse  : By uncommenting the appropriate lines in the settings.py file.\n",
    "\n",
    "# \"\"\""
   ]
  },
  {
   "cell_type": "code",
   "execution_count": 7,
   "metadata": {},
   "outputs": [
    {
     "name": "stdout",
     "output_type": "stream",
     "text": [
      "['test_regex.ipynb']\n"
     ]
    },
    {
     "ename": "FileNotFoundError",
     "evalue": "[WinError 3] Le chemin d’accès spécifié est introuvable: './static/md'",
     "output_type": "error",
     "traceback": [
      "\u001b[1;31m---------------------------------------------------------------------------\u001b[0m",
      "\u001b[1;31mFileNotFoundError\u001b[0m                         Traceback (most recent call last)",
      "Cell \u001b[1;32mIn[7], line 24\u001b[0m\n\u001b[0;32m     21\u001b[0m \u001b[38;5;28mprint\u001b[39m(os\u001b[38;5;241m.\u001b[39mlistdir())\n\u001b[0;32m     22\u001b[0m qa_pairs \u001b[38;5;241m=\u001b[39m []\n\u001b[1;32m---> 24\u001b[0m list_qa_files \u001b[38;5;241m=\u001b[39m [f \u001b[38;5;28;01mfor\u001b[39;00m f \u001b[38;5;129;01min\u001b[39;00m \u001b[43mos\u001b[49m\u001b[38;5;241;43m.\u001b[39;49m\u001b[43mlistdir\u001b[49m\u001b[43m(\u001b[49m\u001b[43mk_QAFolder\u001b[49m\u001b[43m)\u001b[49m \u001b[38;5;28;01mif\u001b[39;00m os\u001b[38;5;241m.\u001b[39mpath\u001b[38;5;241m.\u001b[39misfile(f)] \n\u001b[0;32m     25\u001b[0m \u001b[38;5;28;01mfor\u001b[39;00m qa_file \u001b[38;5;129;01min\u001b[39;00m list_qa_files:\n\u001b[0;32m     26\u001b[0m     \u001b[38;5;28;01mwith\u001b[39;00m \u001b[38;5;28mopen\u001b[39m(qa_file, \u001b[38;5;124m'\u001b[39m\u001b[38;5;124mr\u001b[39m\u001b[38;5;124m'\u001b[39m) \u001b[38;5;28;01mas\u001b[39;00m f:\n",
      "\u001b[1;31mFileNotFoundError\u001b[0m: [WinError 3] Le chemin d’accès spécifié est introuvable: './static/md'"
     ]
    }
   ],
   "source": [
    "import re\n",
    "import os\n",
    "\n",
    "k_QAFolder = \"./static/md\"\n",
    "\n",
    "# TODO : penser aux cas où on va avoir plusieurs fichiers md avec des questions et des réponses\n",
    "def parse_markdown(qa_pairs, markdown_text):\n",
    "    \n",
    "    pattern = re.compile(r'\\* Question : (.*?)\\* Réponse\\s*: (.*?)(?=\\n\\* Question|\\Z)', re.DOTALL)\n",
    "    matches = pattern.findall(markdown_text)\n",
    "    \n",
    "    for match in matches:\n",
    "        question, answer = match\n",
    "        qa_pairs.append({\n",
    "            'question': question.strip(),\n",
    "            'answer': answer.strip()\n",
    "        })\n",
    "    \n",
    "    return qa_pairs\n",
    "\n",
    "\n",
    "qa_pairs = []\n",
    "\n",
    "list_qa_files = [f for f in os.listdir(k_QAFolder) if os.path.isfile(f)] \n",
    "for qa_file in list_qa_files:\n",
    "    with open(qa_file, 'r') as f:\n",
    "        markdown_text = f.read()\n",
    "    qa_pairs = parse_markdown(qa_pairs, markdown_text)\n",
    "\n",
    "print(qa_pairs)"
   ]
  }
 ],
 "metadata": {
  "kernelspec": {
   "display_name": "flash_card_md",
   "language": "python",
   "name": "python3"
  },
  "language_info": {
   "codemirror_mode": {
    "name": "ipython",
    "version": 3
   },
   "file_extension": ".py",
   "mimetype": "text/x-python",
   "name": "python",
   "nbconvert_exporter": "python",
   "pygments_lexer": "ipython3",
   "version": "3.11.7"
  }
 },
 "nbformat": 4,
 "nbformat_minor": 2
}
